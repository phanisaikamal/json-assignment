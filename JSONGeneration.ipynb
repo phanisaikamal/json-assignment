{
  "nbformat": 4,
  "nbformat_minor": 0,
  "metadata": {
    "colab": {
      "name": "JSONGeneration.ipynb",
      "provenance": [],
      "collapsed_sections": []
    },
    "kernelspec": {
      "name": "python3",
      "display_name": "Python 3"
    }
  },
  "cells": [
    {
      "cell_type": "code",
      "metadata": {
        "id": "mhx93zamH7QZ",
        "colab_type": "code",
        "colab": {}
      },
      "source": [
        "import pandas as pd\n",
        "import json"
      ],
      "execution_count": 198,
      "outputs": []
    },
    {
      "cell_type": "code",
      "metadata": {
        "id": "tGTYokXTI4d6",
        "colab_type": "code",
        "colab": {}
      },
      "source": [
        "data = pd.read_json(\"/content/source_file_2.json\")"
      ],
      "execution_count": 85,
      "outputs": []
    },
    {
      "cell_type": "code",
      "metadata": {
        "id": "y_XKLqf9QRdA",
        "colab_type": "code",
        "colab": {
          "base_uri": "https://localhost:8080/",
          "height": 204
        },
        "outputId": "f562aa43-da06-42b4-9d03-ffe5a9130258"
      },
      "source": [
        "data.head()"
      ],
      "execution_count": 84,
      "outputs": [
        {
          "output_type": "execute_result",
          "data": {
            "text/html": [
              "<div>\n",
              "<style scoped>\n",
              "    .dataframe tbody tr th:only-of-type {\n",
              "        vertical-align: middle;\n",
              "    }\n",
              "\n",
              "    .dataframe tbody tr th {\n",
              "        vertical-align: top;\n",
              "    }\n",
              "\n",
              "    .dataframe thead th {\n",
              "        text-align: right;\n",
              "    }\n",
              "</style>\n",
              "<table border=\"1\" class=\"dataframe\">\n",
              "  <thead>\n",
              "    <tr style=\"text-align: right;\">\n",
              "      <th></th>\n",
              "      <th>name</th>\n",
              "      <th>managers</th>\n",
              "      <th>watchers</th>\n",
              "      <th>priority</th>\n",
              "    </tr>\n",
              "  </thead>\n",
              "  <tbody>\n",
              "    <tr>\n",
              "      <th>0</th>\n",
              "      <td>[CV] [Qt] OpenCV GUI</td>\n",
              "      <td>[csaftoiu, merlin]</td>\n",
              "      <td>[merlin, morris]</td>\n",
              "      <td>850</td>\n",
              "    </tr>\n",
              "    <tr>\n",
              "      <th>1</th>\n",
              "      <td>[Web] pm-site</td>\n",
              "      <td>[merlin]</td>\n",
              "      <td>[csaftoiu, jpfarias, morris]</td>\n",
              "      <td>260</td>\n",
              "    </tr>\n",
              "    <tr>\n",
              "      <th>2</th>\n",
              "      <td>Annotations</td>\n",
              "      <td>[luanda]</td>\n",
              "      <td>[csaftoiu, merlin, victor]</td>\n",
              "      <td>10</td>\n",
              "    </tr>\n",
              "    <tr>\n",
              "      <th>3</th>\n",
              "      <td>[OCR] tesseract MRZ reading</td>\n",
              "      <td>[csaftoiu]</td>\n",
              "      <td>[arturc, merlin]</td>\n",
              "      <td>560</td>\n",
              "    </tr>\n",
              "    <tr>\n",
              "      <th>4</th>\n",
              "      <td>Deepgammon</td>\n",
              "      <td>[morris]</td>\n",
              "      <td>[merlin, victor]</td>\n",
              "      <td>150</td>\n",
              "    </tr>\n",
              "  </tbody>\n",
              "</table>\n",
              "</div>"
            ],
            "text/plain": [
              "                           name  ... priority\n",
              "0          [CV] [Qt] OpenCV GUI  ...      850\n",
              "1                 [Web] pm-site  ...      260\n",
              "2                   Annotations  ...       10\n",
              "3  [OCR] tesseract MRZ reading   ...      560\n",
              "4                    Deepgammon  ...      150\n",
              "\n",
              "[5 rows x 4 columns]"
            ]
          },
          "metadata": {
            "tags": []
          },
          "execution_count": 84
        }
      ]
    },
    {
      "cell_type": "code",
      "metadata": {
        "id": "opGQE4AxMaHq",
        "colab_type": "code",
        "colab": {
          "base_uri": "https://localhost:8080/",
          "height": 239
        },
        "outputId": "d2625498-31de-4d4c-d286-48a927dfd4da"
      },
      "source": [
        "df = data.set_index([\"name\", \"priority\"]).watchers.apply(pd.Series).stack().reset_index(level=-1, drop=True).reset_index().sort_values([0, \"priority\"]).reset_index(drop = True)\n",
        "df.columns.values[2] = \"watcher\"\n",
        "watchers = df.watcher.unique()\n",
        "d = dict()\n",
        "for w in watchers:\n",
        "  d.update({w:list(df.name[df.watcher == w])})\n",
        "d = json.dumps(d)\n",
        "d"
      ],
      "execution_count": 209,
      "outputs": [
        {
          "output_type": "execute_result",
          "data": {
            "application/vnd.google.colaboratory.intrinsic+json": {
              "type": "string"
            },
            "text/plain": [
              "'{\"Alex\": [\"sportsparsers - pinnacle API\"], \"arturc\": [\"[OCR] tesseract MRZ reading \"], \"csaftoiu\": [\"Annotations\", \"[EXECUTIVE] Merlin\", \"sportsparsers - 22bet\", \"sportsparsers - esportscalendar\", \"morris bg data gathering\", \"sportsparsers - unikrn\", \"Runningball Parser\", \"sportsparsers - unibet\", \"[Web] pm-site\", \"sportsparsers - tipster.de\", \"sportsparsers - betway\", \"sportsparsers - gg.bet\", \"sportsparsers - pinnacle API\", \"sportsparsers - matchbook\", \"[ID-VERIFY-PIPELINE] finger detector\", \"[CHESS] Live Demo Executive\", \"[INHOUSE-TOOLS] NN-Webapp\", \"[INHOUSE-TOOLS] Annotators app\", \"python training lucas\", \"python training alysson\", \"unity render diff passport text - kennedy\", \"Unity Render Passport Text [Template]\", \"mateus silva bg deep checkers\", \"Android Camera App rrocha\", \"bg deep learning aporto\", \"bg deep checkers rvalentim\", \"tourney site famador\", \"chess board finder eliaquim\", \"tourney site ariel\", \"tourney site tbarbalho\", \"[IOS-APPS] IOS streaming app\", \"[IOS-APPS] IOS PI app\", \"[HR] Candidate tests\", \"[CHATBOT] merlin\", \"[ID-VERIFY-PIPELINE] Background evaluator\", \"[ID-VERIFY-PIPELINE] Passport finder\", \"[CHATBOT] rodrigo\", \"[BG-CLUB-SITE] frontend\", \"[INHOUSE-TOOLS] NN-Webapp 2\"], \"jpfarias\": [\"[EXECUTIVE] Merlin\", \"[Web] pm-site\", \"[ID-VERIFY-PIPELINE] finger detector\", \"[INHOUSE-TOOLS] NN-Webapp\", \"[INHOUSE-TOOLS] Annotators app\", \"[IOS-APPS] IOS streaming app\", \"[IOS-APPS] IOS PI app\", \"[HR] Candidate tests\", \"[CHATBOT] merlin\", \"[ID-VERIFY-PIPELINE] Background evaluator\", \"[ID-VERIFY-PIPELINE] Passport finder\", \"[CHATBOT] rodrigo\", \"[BG-CLUB-SITE] frontend\", \"[INHOUSE-TOOLS] NN-Webapp 2\", \"matchbook parser - mfilho\"], \"merlin\": [\"Annotations\", \"[EXECUTIVE] Merlin\", \"sportsparsers - 22bet\", \"sportsparsers - esportscalendar\", \"sportsparsers - unikrn\", \"Deepgammon\", \"Runningball Parser\", \"sportsparsers - unibet\", \"sportsparsers - tipster.de\", \"sportsparsers - betway\", \"sportsparsers - gg.bet\", \"sportsparsers - matchbook\", \"[OCR] tesseract MRZ reading \", \"[INHOUSE-TOOLS] NN-Webapp\", \"unity render diff passport text artur\", \"[CV] [Qt] OpenCV GUI\", \"unity render different passport text\", \"[template] unity render passport text\", \"unity render diff passport text - kennedy\", \"Unity Render Passport Text [Template]\", \"mateus silva bg deep checkers\", \"Android Camera App rrocha\", \"bg deep learning aporto\", \"bg deep checkers rvalentim\", \"tourney site famador\", \"tourney site ariel\", \"tourney site tbarbalho\", \"[INHOUSE-TOOLS] NN-Webapp 2\", \"matchbook parser - mfilho\"], \"morris\": [\"[EXECUTIVE] Merlin\", \"morris bg data gathering\", \"[Web] pm-site\", \"sportsparsers - pinnacle API\", \"[ID-VERIFY-PIPELINE] finger detector\", \"[CHESS] Live Demo Executive\", \"[INHOUSE-TOOLS] NN-Webapp\", \"[INHOUSE-TOOLS] Annotators app\", \"unity render diff passport text artur\", \"[CV] [Qt] OpenCV GUI\", \"python training lucas\", \"python training alysson\", \"unity render different passport text\", \"[template] unity render passport text\", \"unity render diff passport text - kennedy\", \"Unity Render Passport Text [Template]\", \"[IOS-APPS] IOS streaming app\", \"[IOS-APPS] IOS PI app\", \"[HR] Candidate tests\", \"[CHATBOT] merlin\", \"[ID-VERIFY-PIPELINE] Background evaluator\", \"[ID-VERIFY-PIPELINE] Passport finder\", \"[CHATBOT] rodrigo\", \"[BG-CLUB-SITE] frontend\", \"[INHOUSE-TOOLS] NN-Webapp 2\"], \"victor\": [\"Annotations\", \"Deepgammon\"], \"victor-mgr\": [\"chess board finder eliaquim\"]}'"
            ]
          },
          "metadata": {
            "tags": []
          },
          "execution_count": 209
        }
      ]
    },
    {
      "cell_type": "code",
      "metadata": {
        "id": "rSgxl0WfJcR3",
        "colab_type": "code",
        "colab": {}
      },
      "source": [
        "with open('watchers.json', 'w') as fp:\n",
        "    json.dump(d, fp)"
      ],
      "execution_count": 210,
      "outputs": []
    },
    {
      "cell_type": "code",
      "metadata": {
        "id": "QU9V4sPCK-np",
        "colab_type": "code",
        "colab": {
          "base_uri": "https://localhost:8080/",
          "height": 239
        },
        "outputId": "52043ad2-bb98-40c1-9984-aa0e9d82ce13"
      },
      "source": [
        "tf = data.set_index([\"name\", \"priority\"]).managers.apply(pd.Series).stack().reset_index(level=-1, drop=True).reset_index().sort_values([0, \"priority\"]).reset_index(drop = True)\n",
        "tf.columns.values[2] = \"manager\"\n",
        "managers = tf.manager.unique()\n",
        "t = dict()\n",
        "for m in managers:\n",
        "  t.update({m:list(tf.name[tf.manager == m])})\n",
        "t = json.dumps(t)\n",
        "t"
      ],
      "execution_count": 211,
      "outputs": [
        {
          "output_type": "execute_result",
          "data": {
            "application/vnd.google.colaboratory.intrinsic+json": {
              "type": "string"
            },
            "text/plain": [
              "'{\"ariel\": [\"[BG-CLUB-SITE] frontend\"], \"arturc\": [\"unity render diff passport text artur\"], \"csaftoiu\": [\"sportsparsers - pinnacle API\", \"[OCR] tesseract MRZ reading \", \"unity render diff passport text artur\", \"[CV] [Qt] OpenCV GUI\", \"unity render different passport text\", \"[template] unity render passport text\", \"matchbook parser - mfilho\"], \"luanda\": [\"Annotations\"], \"merlin\": [\"[EXECUTIVE] Merlin\", \"[Web] pm-site\", \"[ID-VERIFY-PIPELINE] finger detector\", \"[CHESS] Live Demo Executive\", \"[INHOUSE-TOOLS] NN-Webapp\", \"[INHOUSE-TOOLS] Annotators app\", \"[CV] [Qt] OpenCV GUI\", \"python training lucas\", \"python training alysson\", \"unity render diff passport text - kennedy\", \"Unity Render Passport Text [Template]\", \"chess board finder eliaquim\", \"[IOS-APPS] IOS streaming app\", \"[IOS-APPS] IOS PI app\", \"[HR] Candidate tests\", \"[CHATBOT] merlin\", \"[ID-VERIFY-PIPELINE] Background evaluator\", \"[ID-VERIFY-PIPELINE] Passport finder\", \"[CHATBOT] rodrigo\", \"[BG-CLUB-SITE] frontend\", \"[INHOUSE-TOOLS] NN-Webapp 2\"], \"morris\": [\"sportsparsers - 22bet\", \"sportsparsers - esportscalendar\", \"sportsparsers - unikrn\", \"Deepgammon\", \"Runningball Parser\", \"sportsparsers - unibet\", \"sportsparsers - tipster.de\", \"sportsparsers - betway\", \"sportsparsers - gg.bet\", \"sportsparsers - matchbook\", \"matchbook parser - mfilho\"], \"victor\": [\"morris bg data gathering\"], \"victor-mgr\": [\"mateus silva bg deep checkers\", \"Android Camera App rrocha\", \"bg deep learning aporto\", \"bg deep checkers rvalentim\", \"tourney site famador\", \"tourney site ariel\", \"tourney site tbarbalho\"]}'"
            ]
          },
          "metadata": {
            "tags": []
          },
          "execution_count": 211
        }
      ]
    },
    {
      "cell_type": "code",
      "metadata": {
        "id": "RCXsBuuTLXyU",
        "colab_type": "code",
        "colab": {}
      },
      "source": [
        "with open('managers.json', 'w') as tp:\n",
        "    json.dump(t, tp)"
      ],
      "execution_count": 212,
      "outputs": []
    }
  ]
}